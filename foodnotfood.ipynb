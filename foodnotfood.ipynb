{
  "nbformat": 4,
  "nbformat_minor": 0,
  "metadata": {
    "colab": {
      "provenance": [],
      "gpuType": "T4",
      "authorship_tag": "ABX9TyNeAAlm3CB3KzMcoNsI55Gn",
      "include_colab_link": true
    },
    "kernelspec": {
      "name": "python3",
      "display_name": "Python 3"
    },
    "language_info": {
      "name": "python"
    },
    "accelerator": "GPU"
  },
  "cells": [
    {
      "cell_type": "markdown",
      "metadata": {
        "id": "view-in-github",
        "colab_type": "text"
      },
      "source": [
        "<a href=\"https://colab.research.google.com/github/eric-sun92/foodnotfood_test_training/blob/main/foodnotfood.ipynb\" target=\"_parent\"><img src=\"https://colab.research.google.com/assets/colab-badge.svg\" alt=\"Open In Colab\"/></a>"
      ]
    },
    {
      "cell_type": "code",
      "execution_count": null,
      "metadata": {
        "id": "RA8-zquTLXyU"
      },
      "outputs": [],
      "source": [
        "import tensorflow as tf"
      ]
    },
    {
      "cell_type": "code",
      "source": [
        "# I got data from previous foodnotfood repo\n",
        "# https://github.com/eric-sun92/foodnotfood\n",
        "!unzip model_test_images_split.zip.zip"
      ],
      "metadata": {
        "id": "OB6xTdims_Qg",
        "colab": {
          "base_uri": "https://localhost:8080/"
        },
        "outputId": "c77df322-0e1d-4a54-aca9-396b2225120b"
      },
      "execution_count": 70,
      "outputs": [
        {
          "output_type": "stream",
          "name": "stdout",
          "text": [
            "unzip:  cannot find or open model_test_images_split.zip.zip, model_test_images_split.zip.zip.zip or model_test_images_split.zip.zip.ZIP.\n"
          ]
        }
      ]
    },
    {
      "cell_type": "code",
      "source": [
        "train_dir = \"model_test_images_split/train\"\n",
        "test_dir = \"model_test_images_split/test\"\n",
        "train_dir, test_dir"
      ],
      "metadata": {
        "id": "savrLj2-s_ad",
        "colab": {
          "base_uri": "https://localhost:8080/"
        },
        "outputId": "89f667f6-2ae5-4dc5-aca1-f84087b1f9d0"
      },
      "execution_count": 61,
      "outputs": [
        {
          "output_type": "execute_result",
          "data": {
            "text/plain": [
              "('model_test_images_split/train', 'model_test_images_split/test')"
            ]
          },
          "metadata": {},
          "execution_count": 61
        }
      ]
    },
    {
      "cell_type": "code",
      "source": [
        "train_data = tf.keras.preprocessing.image_dataset_from_directory(train_dir,\n",
        "                                                                      batch_size=32,\n",
        "                                                                      image_size=(224, 224))\n",
        "test_data = tf.keras.preprocessing.image_dataset_from_directory(test_dir,\n",
        "                                                                      batch_size=32,\n",
        "                                                                      image_size=(224, 224))"
      ],
      "metadata": {
        "colab": {
          "base_uri": "https://localhost:8080/"
        },
        "id": "grl9Z99xtiLU",
        "outputId": "f83e9251-bb08-470c-e39d-b48e00cb2912"
      },
      "execution_count": 62,
      "outputs": [
        {
          "output_type": "stream",
          "name": "stdout",
          "text": [
            "Found 80 files belonging to 2 classes.\n",
            "Found 20 files belonging to 2 classes.\n"
          ]
        }
      ]
    },
    {
      "cell_type": "code",
      "source": [
        "train_data = train_data.prefetch(tf.data.AUTOTUNE)\n",
        "test_data = test_data.prefetch(tf.data.AUTOTUNE)"
      ],
      "metadata": {
        "id": "gPDq2cEhtlT_"
      },
      "execution_count": 63,
      "outputs": []
    },
    {
      "cell_type": "code",
      "source": [
        "base_model = tf.keras.applications.EfficientNetB0(\n",
        "    include_top=False\n",
        ")"
      ],
      "metadata": {
        "colab": {
          "base_uri": "https://localhost:8080/"
        },
        "id": "vPmpATZzuPvX",
        "outputId": "184d493f-51ed-4472-e102-905fbb81134e"
      },
      "execution_count": 64,
      "outputs": [
        {
          "output_type": "stream",
          "name": "stdout",
          "text": [
            "Downloading data from https://storage.googleapis.com/keras-applications/efficientnetb0_notop.h5\n",
            "16705208/16705208 [==============================] - 0s 0us/step\n"
          ]
        }
      ]
    },
    {
      "cell_type": "code",
      "source": [
        "# make model untrainable\n",
        "base_model.trainable = False\n",
        "\n",
        "# our input images will have shape: (224, 224, 3)\n",
        "input_layer = tf.keras.Input(shape=(224, 224, 3))\n",
        "x = base_model(input_layer)\n",
        "x = tf.keras.layers.GlobalAveragePooling2D()(x)\n",
        "output_layer = tf.keras.layers.Dense(1, activation=\"sigmoid\")(x)\n",
        "\n",
        "model_1 = tf.keras.Model(input_layer, output_layer, name=\"EfficientNetB0-V1\")\n",
        "model_1"
      ],
      "metadata": {
        "colab": {
          "base_uri": "https://localhost:8080/"
        },
        "id": "OAvx2rivuRNI",
        "outputId": "ebf19250-ce52-4617-cd89-a8b503fadddc"
      },
      "execution_count": 65,
      "outputs": [
        {
          "output_type": "execute_result",
          "data": {
            "text/plain": [
              "<keras.engine.functional.Functional at 0x7f9aa69b1d20>"
            ]
          },
          "metadata": {},
          "execution_count": 65
        }
      ]
    },
    {
      "cell_type": "code",
      "source": [
        "model_1.compile(loss=tf.keras.losses.BinaryCrossentropy(),\n",
        "              optimizer=tf.keras.optimizers.Adam(),\n",
        "              metrics=[\"accuracy\"])"
      ],
      "metadata": {
        "id": "sZoubHdKuU7u"
      },
      "execution_count": 66,
      "outputs": []
    },
    {
      "cell_type": "code",
      "source": [
        "# Create early stopping callback\n",
        "early_stopping = tf.keras.callbacks.EarlyStopping(patience=5,\n",
        "                                                  monitor=\"val_loss\")"
      ],
      "metadata": {
        "id": "vMKaAscWuYCr"
      },
      "execution_count": 67,
      "outputs": []
    },
    {
      "cell_type": "code",
      "source": [
        "history_1 = model_1.fit(train_data,\n",
        "                        epochs=25,\n",
        "                        validation_data=test_data,\n",
        "                        callbacks=[early_stopping]\n",
        "                        )"
      ],
      "metadata": {
        "colab": {
          "base_uri": "https://localhost:8080/"
        },
        "id": "nYY7jllOuZlv",
        "outputId": "bd2e9c97-89f9-401c-f4cc-40cc7b0f3fe0"
      },
      "execution_count": 68,
      "outputs": [
        {
          "output_type": "stream",
          "name": "stdout",
          "text": [
            "Epoch 1/25\n",
            "3/3 [==============================] - 20s 2s/step - loss: 0.6886 - accuracy: 0.5750 - val_loss: 0.5168 - val_accuracy: 0.9000\n",
            "Epoch 2/25\n",
            "3/3 [==============================] - 0s 95ms/step - loss: 0.4981 - accuracy: 0.7750 - val_loss: 0.3719 - val_accuracy: 1.0000\n",
            "Epoch 3/25\n",
            "3/3 [==============================] - 0s 102ms/step - loss: 0.3488 - accuracy: 0.9750 - val_loss: 0.2687 - val_accuracy: 1.0000\n",
            "Epoch 4/25\n",
            "3/3 [==============================] - 0s 95ms/step - loss: 0.2597 - accuracy: 0.9875 - val_loss: 0.1994 - val_accuracy: 1.0000\n",
            "Epoch 5/25\n",
            "3/3 [==============================] - 0s 94ms/step - loss: 0.2004 - accuracy: 0.9750 - val_loss: 0.1519 - val_accuracy: 1.0000\n",
            "Epoch 6/25\n",
            "3/3 [==============================] - 0s 93ms/step - loss: 0.1591 - accuracy: 0.9875 - val_loss: 0.1192 - val_accuracy: 1.0000\n",
            "Epoch 7/25\n",
            "3/3 [==============================] - 0s 96ms/step - loss: 0.1226 - accuracy: 0.9875 - val_loss: 0.0961 - val_accuracy: 1.0000\n",
            "Epoch 8/25\n",
            "3/3 [==============================] - 0s 96ms/step - loss: 0.1052 - accuracy: 0.9875 - val_loss: 0.0796 - val_accuracy: 1.0000\n",
            "Epoch 9/25\n",
            "3/3 [==============================] - 0s 95ms/step - loss: 0.0896 - accuracy: 0.9875 - val_loss: 0.0676 - val_accuracy: 1.0000\n",
            "Epoch 10/25\n",
            "3/3 [==============================] - 0s 98ms/step - loss: 0.0762 - accuracy: 0.9750 - val_loss: 0.0587 - val_accuracy: 1.0000\n",
            "Epoch 11/25\n",
            "3/3 [==============================] - 0s 96ms/step - loss: 0.0686 - accuracy: 0.9875 - val_loss: 0.0518 - val_accuracy: 1.0000\n",
            "Epoch 12/25\n",
            "3/3 [==============================] - 0s 100ms/step - loss: 0.0587 - accuracy: 0.9875 - val_loss: 0.0465 - val_accuracy: 1.0000\n",
            "Epoch 13/25\n",
            "3/3 [==============================] - 0s 128ms/step - loss: 0.0549 - accuracy: 0.9875 - val_loss: 0.0424 - val_accuracy: 1.0000\n",
            "Epoch 14/25\n",
            "3/3 [==============================] - 0s 128ms/step - loss: 0.0460 - accuracy: 1.0000 - val_loss: 0.0392 - val_accuracy: 1.0000\n",
            "Epoch 15/25\n",
            "3/3 [==============================] - 0s 93ms/step - loss: 0.0418 - accuracy: 1.0000 - val_loss: 0.0366 - val_accuracy: 1.0000\n",
            "Epoch 16/25\n",
            "3/3 [==============================] - 0s 125ms/step - loss: 0.0376 - accuracy: 1.0000 - val_loss: 0.0344 - val_accuracy: 1.0000\n",
            "Epoch 17/25\n",
            "3/3 [==============================] - 0s 128ms/step - loss: 0.0359 - accuracy: 1.0000 - val_loss: 0.0327 - val_accuracy: 1.0000\n",
            "Epoch 18/25\n",
            "3/3 [==============================] - 0s 95ms/step - loss: 0.0362 - accuracy: 1.0000 - val_loss: 0.0312 - val_accuracy: 1.0000\n",
            "Epoch 19/25\n",
            "3/3 [==============================] - 0s 99ms/step - loss: 0.0323 - accuracy: 1.0000 - val_loss: 0.0299 - val_accuracy: 1.0000\n",
            "Epoch 20/25\n",
            "3/3 [==============================] - 1s 117ms/step - loss: 0.0259 - accuracy: 1.0000 - val_loss: 0.0288 - val_accuracy: 1.0000\n",
            "Epoch 21/25\n",
            "3/3 [==============================] - 1s 115ms/step - loss: 0.0277 - accuracy: 1.0000 - val_loss: 0.0277 - val_accuracy: 1.0000\n",
            "Epoch 22/25\n",
            "3/3 [==============================] - 1s 130ms/step - loss: 0.0261 - accuracy: 1.0000 - val_loss: 0.0267 - val_accuracy: 1.0000\n",
            "Epoch 23/25\n",
            "3/3 [==============================] - 1s 114ms/step - loss: 0.0265 - accuracy: 1.0000 - val_loss: 0.0258 - val_accuracy: 1.0000\n",
            "Epoch 24/25\n",
            "3/3 [==============================] - 0s 98ms/step - loss: 0.0232 - accuracy: 1.0000 - val_loss: 0.0250 - val_accuracy: 1.0000\n",
            "Epoch 25/25\n",
            "3/3 [==============================] - 0s 99ms/step - loss: 0.0233 - accuracy: 1.0000 - val_loss: 0.0243 - val_accuracy: 1.0000\n"
          ]
        }
      ]
    },
    {
      "cell_type": "code",
      "source": [
        "model_1.evaluate(test_data)"
      ],
      "metadata": {
        "colab": {
          "base_uri": "https://localhost:8080/"
        },
        "id": "kbL4gLu4uarf",
        "outputId": "64ebcefc-1f1a-4298-f30a-ccfb9cd3bf1f"
      },
      "execution_count": 69,
      "outputs": [
        {
          "output_type": "stream",
          "name": "stdout",
          "text": [
            "1/1 [==============================] - 0s 121ms/step - loss: 0.0243 - accuracy: 1.0000\n"
          ]
        },
        {
          "output_type": "execute_result",
          "data": {
            "text/plain": [
              "[0.024302834644913673, 1.0]"
            ]
          },
          "metadata": {},
          "execution_count": 69
        }
      ]
    },
    {
      "cell_type": "code",
      "source": [],
      "metadata": {
        "id": "hDEPmGWsva1z"
      },
      "execution_count": null,
      "outputs": []
    },
    {
      "cell_type": "code",
      "source": [],
      "metadata": {
        "id": "oofmj2VzukhG"
      },
      "execution_count": null,
      "outputs": []
    }
  ]
}